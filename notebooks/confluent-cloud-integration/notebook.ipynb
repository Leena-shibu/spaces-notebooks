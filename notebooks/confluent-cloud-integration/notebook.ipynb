{
  "cells": [
    {
      "cell_type": "markdown",
      "id": "8c76da18-b057-494b-bb1a-d13a608f7b04",
      "metadata": {},
      "source": [
        "<div id=\"singlestore-header\" style=\"display: flex; background-color: rgba(235, 249, 245, 0.25); padding: 5px;\">\n",
        "    <div id=\"icon-image\" style=\"width: 90px; height: 90px;\">\n",
        "        <img width=\"100%\" height=\"100%\" src=\"https://github.com/singlestore-labs/spaces-notebooks/blob/308526554cc7ded438100de95f96ed8922b2683d/common/images/header-icons/confluent-logo.png\" />\n",
        "    </div>\n",
        "    <div id=\"text\" style=\"padding: 5px; margin-left: 10px;\">\n",
        "        <div id=\"badge\" style=\"display: inline-block; background-color: rgba(0, 0, 0, 0.15); border-radius: 4px; padding: 4px 8px; align-items: center; margin-top: 6px; margin-bottom: -2px; font-size: 80%\">SingleStore Notebooks</div>\n",
        "        <h1 style=\"font-weight: 500; margin: 8px 0 0 4px;\">Ingest Data from Confluent Cloud (Kafka)</h1>\n",
        "    </div>\n",
        "</div>"
      ]
    },
    {
      "attachments": {},
      "cell_type": "markdown",
      "id": "d89587bf-6790-4a03-8d33-c5a1cb0fa94d",
      "metadata": {},
      "source": [
        "<img src=https://raw.githubusercontent.com/singlestore-labs/spaces-notebooks/master/notebooks/confluent-cloud-integration/images/confluent-kafka-integration.png width=\"100%\" />"
      ]
    },
    {
      "attachments": {},
      "cell_type": "markdown",
      "id": "17ab18b5-176d-4b36-b653-30155855230d",
      "metadata": {},
      "source": [
        "### Set Up the Confluent Cluster (Kafka)\n",
        "\n",
        "Before initiating the integration process, it is essential to configure a Kafka cluster in Confluent Cloud. Refer to the <a href=\"https://docs.confluent.io/cloud/current/get-started/index.html\">Quick Start for Confluent Cloud</a> guide for related information.\n",
        "\n",
        "Once the cluster is created, perform the following tasks:\n",
        "\n",
        "- Create a topic, for example <b>'s2-topic'</b>. On the topic overview page, select <b>Schema &gt; Set a schema &gt; Avro</b>, and add a new Avro schema. In this guide, the default schema is used."
      ]
    },
    {
      "attachments": {},
      "cell_type": "markdown",
      "id": "35bee169-fec8-47eb-89b2-712bde11b745",
      "metadata": {},
      "source": [
        "<img src=https://raw.githubusercontent.com/singlestore-labs/spaces-notebooks/master/notebooks/confluent-cloud-integration/images/kafka-value-schema.png width=\"100%\" />"
      ]
    },
    {
      "attachments": {},
      "cell_type": "markdown",
      "id": "679133dc-5c6f-4ea3-97f9-3317d4c98fb6",
      "metadata": {},
      "source": [
        "- Create API keys. The API key is displayed <b>only once</b>. Be sure to copy and securely store the API key."
      ]
    },
    {
      "attachments": {},
      "cell_type": "markdown",
      "id": "4fba3d16-437c-40d0-903f-91560bc71019",
      "metadata": {},
      "source": [
        "<img src=https://raw.githubusercontent.com/singlestore-labs/spaces-notebooks/master/notebooks/confluent-cloud-integration/images/confluent-api-key.png width=\"100%\" />"
      ]
    },
    {
      "attachments": {},
      "cell_type": "markdown",
      "id": "50713fc6-a965-4a70-b732-4c33ae0eaa5f",
      "metadata": {},
      "source": [
        "- On the left navigation pane, select 'Connectors' and create a sample producer named <b>'datagen'</b> using the <b>Datagen Source</b> connector. In the <b>Topic selection</b> pane, select the <b>'s2-topic'</b> created earlier. In the <b>Kafka credentials</b> pane, select the 'Use an existing API key' option. Configure the producer to use the same schema as the one in the created topic. Refer to <a href=\"https://docs.confluent.io/cloud/current/get-started/index.html#step-3-create-a-sample-producer\">Step 3: Create a sample producer</a> for more information. \n",
        "- Launch the <b>'datagen'</b> producer and verify if the <b>'s2-topic'</b> has new messages."
      ]
    },
    {
      "attachments": {},
      "cell_type": "markdown",
      "id": "2a05848e-fad9-47c7-8a4b-7c6fd627ac44",
      "metadata": {},
      "source": [
        "### Set Up Variables\n",
        "\n",
        "Use the <b>S2_DATABASE_NAME</b>, <b>S2_TABLE_NAME</b>, and <b>S2_PIPELINE_NAME</b> variables for integration\n",
        "\n",
        "### Copy Data from Confluent Cloud\n",
        "- Assign the topic name ('s2-topic')\ to the  <b>CONFLUENT_KAFKA_TOPIC_NAME</b> variable.n",
        "- Specify the API key and secret using the <b>CONFLUENT_API_KEY</b> and <b>CONFLUENT_API_SECRET</b> variables, respectively.\n",
        "\n",
        "On the left navigation pane, select <b>Clients</b>. Select a language (for example Java), and configure following variables:\n",
        "- <b>CONFLUENT_CLUSTER_BOOTSTRAP_SERVER</b> from <b>bootstrap.servers</b>\n",
        "- <b>CONFLUENT_SCHEMA_REGISTRY_URL</b> from <b>schema.registry.url</b>\n",
        "\n",
        "Select 'Create Schema Registry API key' to create a schema API key and configure the following variables:\n",
        "- <b>CONFLUENT_SCHEMA_REGISTRY_KEY</b>",
        "- <b>CONFLUENT_SCHEMA_REGISTRY_SECRET</b>"
      ]
    },
    {
      "cell_type": "code",
      "execution_count": 1,
      "id": "193b52e9-bbc5-4544-89cd-88b5c0d2ec10",
      "metadata": {},
      "outputs": [],
      "source": [
        "S2_DATABASE_NAME = 'confluent_cloud_integration'\n",
        "S2_TABLE_NAME = 'kafka_events'\n",
        "S2_PIPELINE_NAME = 'kafka_consumer_pipeline'\n",
        "CONFLUENT_KAFKA_TOPIC_NAME = 's2-topic'\n",
        "CONFLUENT_CLUSTER_BOOTSTRAP_SERVER = 'pkc-xmzwx.europe-central2.gcp.confluent.cloud:9092'\n",
        "CONFLUENT_API_KEY = 'EAPEIJZDU5KY26X5'\n",
        "CONFLUENT_API_SECRET = '***************************************'\n",
        "\n",
        "CONFLUENT_SCHEMA_REGISTRY_URL='https://psrc-9zg5y.europe-west3.gcp.confluent.cloud'\n",
        "CONFLUENT_SCHEMA_REGISTRY_KEY = '7ALNJUEMWMBIMAQL'\n",
        "CONFLUENT_SCHEMA_REGISTRY_SECRET = '***************************************'"
      ]
    },
    {
      "attachments": {},
      "cell_type": "markdown",
      "id": "db9054b4-aec8-4aae-8069-efa042f759d5",
      "metadata": {},
      "source": [
        "### Create a Database"
      ]
    },
    {
      "cell_type": "code",
      "execution_count": 2,
      "id": "b820f083-e61a-4301-8856-4070f15ea9d8",
      "metadata": {},
      "outputs": [],
      "source": [
        "%%sql\n",
        "\n",
        "DROP DATABASE IF EXISTS {{S2_DATABASE_NAME}};\n",
        "CREATE DATABASE {{S2_DATABASE_NAME}};"
      ]
    },
    {
      "attachments": {},
      "cell_type": "markdown",
      "id": "279607d8-35c2-4a84-a4fa-50f5156269f1",
      "metadata": {},
      "source": [
        "<div class=\"alert alert-block alert-warning\">    <b class=\"fa fa-solid fa-exclamation-circle\"></b>    <div>        <p><b>Action Required</b></p>        <p>Be sure to select the <tt>{{S2_DATABASE_NAME}}</tt> database from the drop-down list at the top of this notebook.        It updates the <tt>connection_url</tt> which is used by the <tt>%%sql</tt> magic command and SQLAlchemy to connect to the selected database.</p>    </div></div>"
      ]
    },
    {
      "attachments": {},
      "cell_type": "markdown",
      "id": "4d4df1f2-9075-4558-8633-b80a578fec5b",
      "metadata": {},
      "source": [
        "### Create a Table Based on the Kafka Avro Schema"
      ]
    },
    {
      "cell_type": "code",
      "execution_count": 3,
      "id": "fdd4d627-3d43-44b9-ba96-d3021a4d6555",
      "metadata": {},
      "outputs": [],
      "source": [
        "%%sql\n",
        "\n",
        "DROP PIPELINE IF EXISTS {{S2_DATABASE_NAME}}.{{S2_PIPELINE_NAME}};\n",
        "DROP TABLE IF EXISTS {{S2_DATABASE_NAME}}.{{S2_TABLE_NAME}};\n",
        "CREATE TABLE IF NOT EXISTS {{S2_DATABASE_NAME}}.{{S2_TABLE_NAME}} (\n",
        "`field1` int,\n",
        "`field2` double,\n",
        "`field3` text\n",
        ");"
      ]
    },
    {
      "attachments": {},
      "cell_type": "markdown",
      "id": "569ba3ca-93e9-41ce-a9d8-ae802ae79485",
      "metadata": {},
      "source": [
        "### Create a Kafka Pipeline\n",
        "\n",
        "(Update the schema registry mapping section according to your schema registry in the  <i>'table column name'</i>  <-  <i>'schema registry field name'</i> format:)"
      ]
    },
    {
      "cell_type": "code",
      "execution_count": 4,
      "id": "b164a7e1-a49b-4378-b873-249894d46377",
      "metadata": {},
      "outputs": [],
      "source": [
        "%%sql\n",
        "\n",
        "DROP PIPELINE IF EXISTS {{S2_DATABASE_NAME}}.{{S2_PIPELINE_NAME}};\n",
        "CREATE PIPELINE {{S2_DATABASE_NAME}}.{{S2_PIPELINE_NAME}}\n",
        "AS LOAD DATA KAFKA '{{CONFLUENT_CLUSTER_BOOTSTRAP_SERVER}}/{{CONFLUENT_KAFKA_TOPIC_NAME}}'\n",
        "CONFIG '{ \\\"sasl.username\\\": \\\"{{CONFLUENT_API_KEY}}\\\",\\n         \\\"sasl.mechanism\\\": \\\"PLAIN\\\",\\n         \\\"security.protocol\\\": \\\"SASL_SSL\\\",\\n         \\\"ssl.ca.location\\\": \\\"/etc/pki/ca-trust/extracted/pem/tls-ca-bundle.pem\\\",\\n \\\"schema.registry.username\\\": \\\"{{CONFLUENT_SCHEMA_REGISTRY_KEY}}\\\"}'\n",
        "CREDENTIALS '{\\\"sasl.password\\\": \\\"{{CONFLUENT_API_SECRET}}\\\",\\n \\\"schema.registry.password\\\": \\\"{{CONFLUENT_SCHEMA_REGISTRY_SECRET}}\\\"}'\n",
        "BATCH_INTERVAL 20\n",
        "DISABLE OFFSETS METADATA GC\n",
        "INTO TABLE {{S2_TABLE_NAME}}\n",
        "FORMAT AVRO\n",
        "SCHEMA REGISTRY '{{CONFLUENT_SCHEMA_REGISTRY_URL}}'\n",
        "(\n",
        "field1  <-  my_field1,\n",
        "field2  <-  my_field2,\n",
        "field3  <-  my_field3\n",
        ");"
      ]
    },
    {
      "attachments": {},
      "cell_type": "markdown",
      "id": "f80798c7-6160-4337-91b0-5bfabcf9e1bf",
      "metadata": {},
      "source": [
        "### Test the Created Pipeline"
      ]
    },
    {
      "cell_type": "code",
      "execution_count": 5,
      "id": "861ed9db-4ad0-46d2-9e8f-5209b24629d0",
      "metadata": {},
      "outputs": [],
      "source": [
        "%%sql\n",
        "TEST PIPELINE  {{S2_DATABASE_NAME}}.{{S2_PIPELINE_NAME}} LIMIT 1;"
      ]
    },
    {
      "attachments": {},
      "cell_type": "markdown",
      "id": "b26eacfa-9d48-4f4f-9622-b9d80eaee868",
      "metadata": {},
      "source": [
        "### Start the Pipeline"
      ]
    },
    {
      "cell_type": "code",
      "execution_count": 6,
      "id": "73e26849-bca9-4bf1-afdd-91651004616c",
      "metadata": {},
      "outputs": [],
      "source": [
        "%%sql\n",
        "\n",
        "START PIPELINE {{S2_DATABASE_NAME}}.{{S2_PIPELINE_NAME}};"
      ]
    },
    {
      "attachments": {},
      "cell_type": "markdown",
      "id": "bb7de29c-161d-48a8-ad62-97cf9d42278e",
      "metadata": {},
      "source": [
        "### Stop the Pipeline"
      ]
    },
    {
      "cell_type": "code",
      "execution_count": 7,
      "id": "6f504e16-e94d-4008-9c51-10f53df0945d",
      "metadata": {},
      "outputs": [],
      "source": [
        "%%sql\n",
        "\n",
        "STOP PIPELINE {{S2_DATABASE_NAME}}.{{S2_PIPELINE_NAME}};"
      ]
    },
    {
      "attachments": {},
      "cell_type": "markdown",
      "id": "52388e5a-9f8d-43e1-90d6-d2f3dede536b",
      "metadata": {},
      "source": [
        "### View Consumed Events"
      ]
    },
    {
      "cell_type": "code",
      "execution_count": 8,
      "id": "0e02c412-6ea6-43ca-b13b-1550541e7d00",
      "metadata": {},
      "outputs": [],
      "source": [
        "%%sql\n",
        "\n",
        "SELECT * FROM {{S2_DATABASE_NAME}}.{{S2_TABLE_NAME}};"
      ]
    },
    {
      "cell_type": "markdown",
      "id": "38c7e787-69bf-4c8b-9cad-bda21ae4ba96",
      "metadata": {},
      "source": [
        "<div id=\"singlestore-footer\" style=\"background-color: rgba(194, 193, 199, 0.25); height:2px; margin-bottom:10px\"></div>\n",
        "<div><img src=\"https://raw.githubusercontent.com/singlestore-labs/spaces-notebooks/master/common/images/singlestore-logo-grey.png\" style=\"padding: 0px; margin: 0px; height: 24px\" width=\"100%\" /></div>"
      ]
    }
  ],
  "metadata": {
    "jupyterlab": {
      "notebooks": {
        "version_major": 6,
        "version_minor": 4
      }
    },
    "kernelspec": {
      "display_name": "Python 3 (ipykernel)",
      "language": "python",
      "name": "python3"
    },
    "language_info": {
      "codemirror_mode": {
        "name": "ipython",
        "version": 3
      },
      "file_extension": ".py",
      "mimeType": "text/x-python",
      "name": "python",
      "nbconvert_exporter": "python",
      "pygments_lexer": "ipython3",
      "version": "3.11.6"
    }
  },
  "nbformat": 4,
  "nbformat_minor": 5
}
